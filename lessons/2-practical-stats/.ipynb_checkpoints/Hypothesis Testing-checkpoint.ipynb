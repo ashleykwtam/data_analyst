{
 "cells": [
  {
   "cell_type": "code",
   "execution_count": 2,
   "id": "ab4d09ae",
   "metadata": {},
   "outputs": [],
   "source": [
    "import pandas as pd\n",
    "import numpy as np\n",
    "import matplotlib.pyplot as plt\n",
    "\n",
    "np.random.seed(42)\n",
    "\n",
    "df = pd.read_csv('coffee_dataset.csv')"
   ]
  },
  {
   "cell_type": "code",
   "execution_count": null,
   "id": "9aabfb92",
   "metadata": {},
   "outputs": [],
   "source": [
    "# Is average height in coffee drinkers greater than 70?\n",
    "# H0: population mean <= 70\n",
    "# H1: population mean > 70\n",
    "\n",
    "# 1. can use CI and build a sampling distribution to see if it matches hypothesis and population "
   ]
  },
  {
   "cell_type": "code",
   "execution_count": 3,
   "id": "9b4910d7",
   "metadata": {},
   "outputs": [],
   "source": [
    "sample_df = df.sample(150)"
   ]
  },
  {
   "cell_type": "code",
   "execution_count": 4,
   "id": "0b9b9534",
   "metadata": {},
   "outputs": [],
   "source": [
    "bootsample = sample_df.sample(150, replace=True)"
   ]
  },
  {
   "cell_type": "code",
   "execution_count": 6,
   "id": "c0c20003",
   "metadata": {},
   "outputs": [],
   "source": [
    "means = []\n",
    "\n",
    "for _ in range(10000):\n",
    "    bootsample = sample_df.sample(150, replace=True)\n",
    "    means.append(bootsample.height.mean())"
   ]
  },
  {
   "cell_type": "code",
   "execution_count": 7,
   "id": "05da73ca",
   "metadata": {},
   "outputs": [
    {
     "data": {
      "text/plain": [
       "(67.10258508046543, 68.15617490636114)"
      ]
     },
     "execution_count": 7,
     "metadata": {},
     "output_type": "execute_result"
    }
   ],
   "source": [
    "np.percentile(means, 2.5), np.percentile(means, 97.5)"
   ]
  },
  {
   "cell_type": "code",
   "execution_count": 8,
   "id": "f4ac74f8",
   "metadata": {},
   "outputs": [
    {
     "data": {
      "text/plain": [
       "0.265813365061651"
      ]
     },
     "execution_count": 8,
     "metadata": {},
     "output_type": "execute_result"
    }
   ],
   "source": [
    "# 2. simulate from closest value to alternative that is still null\n",
    "\n",
    "np.std(means) "
   ]
  },
  {
   "cell_type": "code",
   "execution_count": 9,
   "id": "e9b52b73",
   "metadata": {},
   "outputs": [
    {
     "data": {
      "image/png": "[encoded data removed]",
      "text/plain": [
       "<Figure size 432x288 with 1 Axes>"
      ]
     },
     "metadata": {
      "needs_background": "light"
     },
     "output_type": "display_data"
    }
   ],
   "source": [
    "# usd std and null to simulate the distribution\n",
    "\n",
    "null_vals = np.random.normal(70, np.std(means), 10000)\n",
    "\n",
    "plt.hist(null_vals);"
   ]
  },
  {
   "cell_type": "code",
   "execution_count": 10,
   "id": "f77ff3ad",
   "metadata": {},
   "outputs": [
    {
     "data": {
      "text/plain": [
       "67.63297688228059"
      ]
     },
     "execution_count": 10,
     "metadata": {},
     "output_type": "execute_result"
    }
   ],
   "source": [
    "sample_df.height.mean() #compare sample mean to distribution tells the likelihood statistic is coming from null or not"
   ]
  },
  {
   "cell_type": "code",
   "execution_count": 11,
   "id": "ac207816",
   "metadata": {},
   "outputs": [
    {
     "data": {
      "text/plain": [
       "1.0"
      ]
     },
     "execution_count": 11,
     "metadata": {},
     "output_type": "execute_result"
    }
   ],
   "source": [
    "# calculate p value\n",
    "\n",
    "sample_mean = sample_df.height.mean()\n",
    "\n",
    "(null_vals > sample_mean).mean() # large p values suggest we should NOT move away from null hypothesis"
   ]
  },
  {
   "cell_type": "code",
   "execution_count": null,
   "id": "2fa6e737",
   "metadata": {},
   "outputs": [],
   "source": []
  }
 ],
 "metadata": {
  "kernelspec": {
   "display_name": "Python 3 (ipykernel)",
   "language": "python",
   "name": "python3"
  },
  "language_info": {
   "codemirror_mode": {
    "name": "ipython",
    "version": 3
   },
   "file_extension": ".py",
   "mimetype": "text/x-python",
   "name": "python",
   "nbconvert_exporter": "python",
   "pygments_lexer": "ipython3",
   "version": "3.9.9"
  }
 },
 "nbformat": 4,
 "nbformat_minor": 5
}
