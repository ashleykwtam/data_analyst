{
 "cells": [
  {
   "cell_type": "markdown",
   "id": "b484f938",
   "metadata": {},
   "source": [
    "# Project 1: Explore Weather Trends"
   ]
  },
  {
   "cell_type": "code",
   "execution_count": 1,
   "id": "795c2f0c",
   "metadata": {},
   "outputs": [],
   "source": [
    "import pandas as pd\n",
    "import matplotlib as plt\n",
    "import numpy as np"
   ]
  },
  {
   "cell_type": "code",
   "execution_count": 4,
   "id": "134ccef2",
   "metadata": {},
   "outputs": [],
   "source": [
    "globaltemp = pd.read_csv('global_results.csv')\n",
    "citytemp = pd.read_csv('chicago_results.csv')"
   ]
  },
  {
   "cell_type": "code",
   "execution_count": 5,
   "id": "fd286761",
   "metadata": {},
   "outputs": [
    {
     "name": "stdout",
     "output_type": "stream",
     "text": [
      "     year  avg_temp  sevenDayMA  FiveYearMA  TenYearMA\n",
      "0    1750      8.72         NaN         NaN        NaN\n",
      "1    1751      7.98         NaN         NaN        NaN\n",
      "2    1752      5.78         NaN         NaN        NaN\n",
      "3    1753      8.39         NaN         NaN        NaN\n",
      "4    1754      8.47         NaN       7.868        NaN\n",
      "..    ...       ...         ...         ...        ...\n",
      "261  2011      9.52    9.588571       9.578      9.554\n",
      "262  2012      9.51    9.561429       9.534      9.548\n",
      "263  2013      9.61    9.572857       9.570      9.556\n",
      "264  2014      9.57    9.550000       9.582      9.581\n",
      "265  2015      9.83    9.607143       9.608      9.594\n",
      "\n",
      "[266 rows x 5 columns]      year     city        country  avg_temp  sevenDayMA  FiveYearMA  TenYearMA\n",
      "0    1743  Chicago  United States      5.44         NaN         NaN        NaN\n",
      "1    1744  Chicago  United States     11.73         NaN         NaN        NaN\n",
      "2    1745  Chicago  United States      1.80         NaN         NaN        NaN\n",
      "3    1746  Chicago  United States      0.00         NaN         NaN        NaN\n",
      "4    1747  Chicago  United States      0.00         NaN       3.794        NaN\n",
      "..    ...      ...            ...       ...         ...         ...        ...\n",
      "266  2009  Chicago  United States     10.30   10.980000      11.088     11.118\n",
      "267  2010  Chicago  United States     11.82   11.171429      11.136     11.191\n",
      "268  2011  Chicago  United States     11.21   11.210000      11.004     11.142\n",
      "269  2012  Chicago  United States     12.82   11.387143      11.278     11.271\n",
      "270  2013  Chicago  United States     11.59   11.347143      11.548     11.382\n",
      "\n",
      "[271 rows x 7 columns]\n"
     ]
    }
   ],
   "source": [
    "print(globaltemp, citytemp)"
   ]
  },
  {
   "cell_type": "code",
   "execution_count": 10,
   "id": "ab0e1929",
   "metadata": {},
   "outputs": [
    {
     "ename": "AttributeError",
     "evalue": "'Series' object has no attribute 'set_index'",
     "output_type": "error",
     "traceback": [
      "\u001b[0;31m---------------------------------------------------------------------------\u001b[0m",
      "\u001b[0;31mAttributeError\u001b[0m                            Traceback (most recent call last)",
      "Input \u001b[0;32mIn [10]\u001b[0m, in \u001b[0;36m<module>\u001b[0;34m\u001b[0m\n\u001b[1;32m      1\u001b[0m \u001b[38;5;66;03m# Calculate Moving Average\u001b[39;00m\n\u001b[0;32m----> 3\u001b[0m \u001b[43mglobaltemp\u001b[49m\u001b[38;5;241;43m.\u001b[39;49m\u001b[43mset_index\u001b[49m(\u001b[38;5;124m'\u001b[39m\u001b[38;5;124myear\u001b[39m\u001b[38;5;124m'\u001b[39m, inplace\u001b[38;5;241m=\u001b[39m\u001b[38;5;28;01mTrue\u001b[39;00m)\n\u001b[1;32m      5\u001b[0m globaltemp\u001b[38;5;241m.\u001b[39mindex\u001b[38;5;241m.\u001b[39mname \u001b[38;5;241m=\u001b[39m \u001b[38;5;124m'\u001b[39m\u001b[38;5;124mYear\u001b[39m\u001b[38;5;124m'\u001b[39m\n\u001b[1;32m      7\u001b[0m globaltemp[\u001b[38;5;124m'\u001b[39m\u001b[38;5;124mAvg_Temperature\u001b[39m\u001b[38;5;124m'\u001b[39m] \u001b[38;5;241m=\u001b[39m globaltemp\u001b[38;5;241m.\u001b[39mmean(axis\u001b[38;5;241m=\u001b[39m\u001b[38;5;241m1\u001b[39m)\n",
      "File \u001b[0;32m/usr/local/lib/python3.9/site-packages/pandas/core/generic.py:5487\u001b[0m, in \u001b[0;36mNDFrame.__getattr__\u001b[0;34m(self, name)\u001b[0m\n\u001b[1;32m   5480\u001b[0m \u001b[38;5;28;01mif\u001b[39;00m (\n\u001b[1;32m   5481\u001b[0m     name \u001b[38;5;129;01mnot\u001b[39;00m \u001b[38;5;129;01min\u001b[39;00m \u001b[38;5;28mself\u001b[39m\u001b[38;5;241m.\u001b[39m_internal_names_set\n\u001b[1;32m   5482\u001b[0m     \u001b[38;5;129;01mand\u001b[39;00m name \u001b[38;5;129;01mnot\u001b[39;00m \u001b[38;5;129;01min\u001b[39;00m \u001b[38;5;28mself\u001b[39m\u001b[38;5;241m.\u001b[39m_metadata\n\u001b[1;32m   5483\u001b[0m     \u001b[38;5;129;01mand\u001b[39;00m name \u001b[38;5;129;01mnot\u001b[39;00m \u001b[38;5;129;01min\u001b[39;00m \u001b[38;5;28mself\u001b[39m\u001b[38;5;241m.\u001b[39m_accessors\n\u001b[1;32m   5484\u001b[0m     \u001b[38;5;129;01mand\u001b[39;00m \u001b[38;5;28mself\u001b[39m\u001b[38;5;241m.\u001b[39m_info_axis\u001b[38;5;241m.\u001b[39m_can_hold_identifiers_and_holds_name(name)\n\u001b[1;32m   5485\u001b[0m ):\n\u001b[1;32m   5486\u001b[0m     \u001b[38;5;28;01mreturn\u001b[39;00m \u001b[38;5;28mself\u001b[39m[name]\n\u001b[0;32m-> 5487\u001b[0m \u001b[38;5;28;01mreturn\u001b[39;00m \u001b[38;5;28;43mobject\u001b[39;49m\u001b[38;5;241;43m.\u001b[39;49m\u001b[38;5;21;43m__getattribute__\u001b[39;49m\u001b[43m(\u001b[49m\u001b[38;5;28;43mself\u001b[39;49m\u001b[43m,\u001b[49m\u001b[43m \u001b[49m\u001b[43mname\u001b[49m\u001b[43m)\u001b[49m\n",
      "\u001b[0;31mAttributeError\u001b[0m: 'Series' object has no attribute 'set_index'"
     ]
    }
   ],
   "source": [
    "# Calculate Moving Average\n",
    "\n",
    "globaltemp.set_index('year', inplace=True)\n",
    "\n",
    "globaltemp.index.name = 'Year'\n",
    "\n",
    "globaltemp['Avg_Temperature'] = globaltemp.mean(axis=1)\n",
    "\n",
    "globaltemp.head()"
   ]
  },
  {
   "cell_type": "code",
   "execution_count": null,
   "id": "7c2c43c6",
   "metadata": {},
   "outputs": [],
   "source": []
  }
 ],
 "metadata": {
  "kernelspec": {
   "display_name": "Python 3 (ipykernel)",
   "language": "python",
   "name": "python3"
  },
  "language_info": {
   "codemirror_mode": {
    "name": "ipython",
    "version": 3
   },
   "file_extension": ".py",
   "mimetype": "text/x-python",
   "name": "python",
   "nbconvert_exporter": "python",
   "pygments_lexer": "ipython3",
   "version": "3.9.9"
  }
 },
 "nbformat": 4,
 "nbformat_minor": 5
}
